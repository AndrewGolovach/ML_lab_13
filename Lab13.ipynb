{
 "cells": [
  {
   "cell_type": "markdown",
   "metadata": {},
   "source": [
    "### Домашнее задание №13 по курсу \"Машинное обучение\"\n",
    "Головач Андрей"
   ]
  },
  {
   "cell_type": "markdown",
   "metadata": {},
   "source": [
    "### Задание 1\n",
    "\n",
    "Покажем, что $M_{SOA}(H) \\le Ldim(H)$.\n",
    "Для этого достаточно доказать что каждый раз, когда алгоритм допускает ошибку, $Ldim(V_{t+1}) \\le Ldim(V_t) - 1$.\n",
    "Если допустить, что данное утверждение неверно, т.е. $Ldim(V_{t+1}) = Ldim(V_t)$, получим, что $Ldim(V_t^{(r)})=Ldim(V_t)$ как для $r=0$, так и для $r=1$, из чего следует, что для класса $V_t$ можно построить раскрашенное дерево глубины $Ldim(V_t)+1$, из чего следует противоречие.\n",
    "\n",
    "В то же время, из Mistake-bound Ldim знаем, что $Ldim(H) \\le M_{SOA}(H)$.\n",
    "\n",
    "Т.к. $M_{SOA}(H) \\le Ldim(H)$ и $Ldim(H) \\le M_{SOA}(H)$, получаем $M_{SOA}(H) = Ldim(H)$."
   ]
  },
  {
   "cell_type": "markdown",
   "metadata": {},
   "source": [
    "### Задание 2\n",
    "\n",
    "Для доказательства того, что разница между $VCdim$ и $Ldim$ может быть сколь угодно большой, рассмотрим пример №2 из лекции.\n",
    "\n",
    "$$X=\\{0,1\\}^d, H=\\{x \\rightarrow  1_{[x<\\alpha]}: \\alpha \\in [0,1]\\}$$\n",
    "\n",
    "Для $C=0.5$ класс раскрашивающих гипотез $H = {h_0.25, h_0.75}$.\n",
    "Для любой $C = {a, b}$ невозможно подобрать гипотезу, раскрашивающую случай $h(a)=1, h(b)=0$.\n",
    "Таким образом, получаем, что $VCdim(H) = 1$, тогда как на лекции было показано, что $Ldim(H) = \\infty$."
   ]
  },
  {
   "cell_type": "markdown",
   "metadata": {},
   "source": [
    "### Задание 3\n",
    "\n",
    "Пусть $X = \\{0,1\\}^d, H=\\{h_1, ..., h_d\\}, h_i=1_{[x_i=1]}$.\n",
    "\n",
    "На последовательности $(1, 0, ..., 0), (0, 1, ..., 0), ..., (0, 0, ..., 1)$ можно получить $|H|-1$ ошибок. "
   ]
  },
  {
   "cell_type": "markdown",
   "metadata": {},
   "source": [
    "### Задание 4\n",
    "Пусть $X = \\{1, 2, ..., 2^d\\}, H=\\{h_1, h_2, ... , h_{2^d}\\}, h_i(x)=1_{[x<i]}$\n",
    "\n",
    "Предположим, что $h^* = h_1$, тогда на последовательности $2^{d-1}, 2^{d-2}, ..., 2, 1$ получим $log_2(|H|)$ ошибок.\n"
   ]
  },
  {
   "cell_type": "markdown",
   "metadata": {},
   "source": [
    "### Задание 5\n",
    "\n",
    "Такой выбор плот тем, что $f_t(w)$ не выпукла и в случае ошибки не будет меняться $w$, т.к. $df_t^{(-)}(w^{(t)})=0$.\n",
    "\n",
    "Получим плохую оценку $Ldim$ и, следовательно, на $M$ (при $d \\ge 2$ $Ldim(H) = \\infty$)."
   ]
  },
  {
   "cell_type": "code",
   "execution_count": null,
   "metadata": {},
   "outputs": [],
   "source": []
  }
 ],
 "metadata": {
  "kernelspec": {
   "display_name": "Python 2",
   "language": "python",
   "name": "python2"
  },
  "language_info": {
   "codemirror_mode": {
    "name": "ipython",
    "version": 2
   },
   "file_extension": ".py",
   "mimetype": "text/x-python",
   "name": "python",
   "nbconvert_exporter": "python",
   "pygments_lexer": "ipython2",
   "version": "2.7.13"
  }
 },
 "nbformat": 4,
 "nbformat_minor": 2
}
